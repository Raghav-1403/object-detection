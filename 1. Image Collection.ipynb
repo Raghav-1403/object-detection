{
 "cells": [
  {
   "cell_type": "markdown",
   "metadata": {},
   "source": [
    "# 1. Import Dependencies"
   ]
  },
  {
   "cell_type": "code",
   "execution_count": 2,
   "metadata": {},
   "outputs": [
    {
     "name": "stdout",
     "output_type": "stream",
     "text": [
      "Requirement already satisfied: opencv-python in d:\\object detecion\\tfodcourse\\tfod\\lib\\site-packages (4.9.0.80)\n",
      "Requirement already satisfied: numpy>=1.21.2 in d:\\object detecion\\tfodcourse\\tfod\\lib\\site-packages (from opencv-python) (1.26.3)\n"
     ]
    }
   ],
   "source": [
    "!pip install opencv-python"
   ]
  },
  {
   "cell_type": "code",
   "execution_count": 5,
   "metadata": {},
   "outputs": [],
   "source": [
    "import cv2 \n",
    "import uuid\n",
    "import os\n",
    "import time"
   ]
  },
  {
   "cell_type": "markdown",
   "metadata": {},
   "source": [
    "# 2. Define Images to Collect"
   ]
  },
  {
   "cell_type": "code",
   "execution_count": 4,
   "metadata": {},
   "outputs": [],
   "source": [
    "labels = ['human']\n",
    "number_imgs = 5"
   ]
  },
  {
   "cell_type": "markdown",
   "metadata": {},
   "source": [
    "# 3. Setup Folders "
   ]
  },
  {
   "cell_type": "code",
   "execution_count": 5,
   "metadata": {},
   "outputs": [],
   "source": [
    "IMAGES_PATH = os.path.join('Tensorflow', 'workspace', 'images', 'collectedimages')"
   ]
  },
  {
   "cell_type": "code",
   "execution_count": 6,
   "metadata": {},
   "outputs": [],
   "source": [
    "if not os.path.exists(IMAGES_PATH):\n",
    "    if os.name == 'posix':\n",
    "        !mkdir -p {IMAGES_PATH}\n",
    "    if os.name == 'nt':\n",
    "         !mkdir {IMAGES_PATH}\n",
    "for label in labels:\n",
    "    path = os.path.join(IMAGES_PATH, label)\n",
    "    if not os.path.exists(path):\n",
    "        !mkdir {path}"
   ]
  },
  {
   "cell_type": "markdown",
   "metadata": {},
   "source": [
    "# 4. Capture Images"
   ]
  },
  {
   "cell_type": "code",
   "execution_count": 18,
   "metadata": {},
   "outputs": [
    {
     "name": "stdout",
     "output_type": "stream",
     "text": [
      "Collecting images for thumbsup\n",
      "Collecting image 0\n",
      "Collecting image 1\n",
      "Collecting image 2\n",
      "Collecting image 3\n",
      "Collecting image 4\n"
     ]
    }
   ],
   "source": [
    "for label in labels:\n",
    "    cap = cv2.VideoCapture(0)\n",
    "    print('Collecting images for {}'.format(label))\n",
    "    time.sleep(5)\n",
    "    for imgnum in range(number_imgs):\n",
    "        print('Collecting image {}'.format(imgnum))\n",
    "        ret, frame = cap.read()\n",
    "        imgname = os.path.join(IMAGES_PATH,label,label+'.'+'{}.jpg'.format(str(uuid.uuid1())))\n",
    "        cv2.imwrite(imgname, frame)\n",
    "        cv2.imshow('frame', frame)\n",
    "        time.sleep(2)\n",
    "\n",
    "        if cv2.waitKey(1) & 0xFF == ord('q'):\n",
    "            break\n",
    "cap.release()\n",
    "cv2.destroyAllWindows()"
   ]
  },
  {
   "cell_type": "markdown",
   "metadata": {},
   "source": [
    "# 5. Image Labelling"
   ]
  },
  {
   "cell_type": "code",
   "execution_count": 1,
   "metadata": {},
   "outputs": [
    {
     "name": "stdout",
     "output_type": "stream",
     "text": [
      "Requirement already satisfied: pyqt5 in d:\\object detecion\\tfodcourse\\tfod\\lib\\site-packages (5.15.10)\n",
      "Requirement already satisfied: lxml in d:\\object detecion\\tfodcourse\\tfod\\lib\\site-packages (5.0.1)\n",
      "Collecting lxml\n",
      "  Downloading lxml-5.1.0-cp311-cp311-win_amd64.whl.metadata (3.6 kB)\n",
      "Requirement already satisfied: PyQt5-sip<13,>=12.13 in d:\\object detecion\\tfodcourse\\tfod\\lib\\site-packages (from pyqt5) (12.13.0)\n",
      "Requirement already satisfied: PyQt5-Qt5>=5.15.2 in d:\\object detecion\\tfodcourse\\tfod\\lib\\site-packages (from pyqt5) (5.15.2)\n",
      "Downloading lxml-5.1.0-cp311-cp311-win_amd64.whl (3.9 MB)\n",
      "   ---------------------------------------- 0.0/3.9 MB ? eta -:--:--\n",
      "   ---------------------------------------- 0.0/3.9 MB ? eta -:--:--\n",
      "   ---------------------------------------- 0.0/3.9 MB ? eta -:--:--\n",
      "   ---------------------------------------- 0.0/3.9 MB 262.6 kB/s eta 0:00:15\n",
      "    --------------------------------------- 0.1/3.9 MB 393.8 kB/s eta 0:00:10\n",
      "   - -------------------------------------- 0.2/3.9 MB 908.0 kB/s eta 0:00:05\n",
      "   --- ------------------------------------ 0.3/3.9 MB 1.2 MB/s eta 0:00:04\n",
      "   ----- ---------------------------------- 0.6/3.9 MB 1.9 MB/s eta 0:00:02\n",
      "   -------- ------------------------------- 0.9/3.9 MB 2.5 MB/s eta 0:00:02\n",
      "   ----------- ---------------------------- 1.1/3.9 MB 3.0 MB/s eta 0:00:01\n",
      "   ---------------- ----------------------- 1.6/3.9 MB 3.6 MB/s eta 0:00:01\n",
      "   -------------------- ------------------- 2.0/3.9 MB 4.0 MB/s eta 0:00:01\n",
      "   ----------------------- ---------------- 2.3/3.9 MB 4.3 MB/s eta 0:00:01\n",
      "   --------------------------- ------------ 2.7/3.9 MB 4.6 MB/s eta 0:00:01\n",
      "   ------------------------------ --------- 3.0/3.9 MB 4.8 MB/s eta 0:00:01\n",
      "   --------------------------------- ------ 3.3/3.9 MB 4.9 MB/s eta 0:00:01\n",
      "   ------------------------------------ --- 3.6/3.9 MB 5.0 MB/s eta 0:00:01\n",
      "   ---------------------------------------  3.9/3.9 MB 5.2 MB/s eta 0:00:01\n",
      "   ---------------------------------------- 3.9/3.9 MB 5.0 MB/s eta 0:00:00\n",
      "Installing collected packages: lxml\n",
      "  Attempting uninstall: lxml\n",
      "    Found existing installation: lxml 5.0.1\n",
      "    Uninstalling lxml-5.0.1:\n",
      "      Successfully uninstalled lxml-5.0.1\n",
      "Successfully installed lxml-5.1.0\n"
     ]
    },
    {
     "name": "stderr",
     "output_type": "stream",
     "text": [
      "  WARNING: Failed to remove contents in a temporary directory 'D:\\object detecion\\TFODCourse\\tfod\\Lib\\site-packages\\~xml'.\n",
      "  You can safely remove it manually.\n"
     ]
    }
   ],
   "source": [
    "!pip install --upgrade pyqt5 lxml"
   ]
  },
  {
   "cell_type": "code",
   "execution_count": 6,
   "metadata": {},
   "outputs": [],
   "source": [
    "LABELIMG_PATH = os.path.join('Tensorflow', 'labelimg')"
   ]
  },
  {
   "cell_type": "code",
   "execution_count": 7,
   "metadata": {},
   "outputs": [],
   "source": [
    "if not os.path.exists(LABELIMG_PATH):\n",
    "    !mkdir {LABELIMG_PATH}\n",
    "    !git clone https://github.com/tzutalin/labelImg {LABELIMG_PATH}"
   ]
  },
  {
   "cell_type": "code",
   "execution_count": 8,
   "metadata": {},
   "outputs": [],
   "source": [
    "if os.name == 'posix':\n",
    "    !make qt5py3\n",
    "if os.name =='nt':\n",
    "    !cd {LABELIMG_PATH} && pyrcc5 -o libs/resources.py resources.qrc"
   ]
  },
  {
   "cell_type": "code",
   "execution_count": 9,
   "metadata": {},
   "outputs": [
    {
     "name": "stdout",
     "output_type": "stream",
     "text": [
      "Image:D:\\object detecion\\TFODCourse\\Tensorflow\\workspace\\images\\collectedimages\\human\\763764_stock-photo-business-people-team.jpg -> Annotation:D:/object detecion/TFODCourse/Tensorflow/workspace/images/collectedimages/human\\763764_stock-photo-business-people-team.xml\n",
      "Image:D:\\object detecion\\TFODCourse\\Tensorflow\\workspace\\images\\collectedimages\\human\\a034de2defa22dc795ccd1cbd4b89ae6.jpg -> Annotation:D:/object detecion/TFODCourse/Tensorflow/workspace/images/collectedimages/human\\a034de2defa22dc795ccd1cbd4b89ae6.xml\n",
      "Image:D:\\object detecion\\TFODCourse\\Tensorflow\\workspace\\images\\collectedimages\\human\\business-groups-different-people-line-con-5169701.jpg -> Annotation:D:/object detecion/TFODCourse/Tensorflow/workspace/images/collectedimages/human\\business-groups-different-people-line-con-5169701.xml\n",
      "Image:D:\\object detecion\\TFODCourse\\Tensorflow\\workspace\\images\\collectedimages\\human\\collection-full-length-portrait-people-260nw-1930938029.jpg -> Annotation:D:/object detecion/TFODCourse/Tensorflow/workspace/images/collectedimages/human\\collection-full-length-portrait-people-260nw-1930938029.xml\n",
      "Image:D:\\object detecion\\TFODCourse\\Tensorflow\\workspace\\images\\collectedimages\\human\\drink-young-man-full-body-portrait-people-isolated-white-background-91384067.jpg -> Annotation:D:/object detecion/TFODCourse/Tensorflow/workspace/images/collectedimages/human\\drink-young-man-full-body-portrait-people-isolated-white-background-91384067.xml\n",
      "Image:D:\\object detecion\\TFODCourse\\Tensorflow\\workspace\\images\\collectedimages\\human\\group-of-business-people-talking-ET2BYX.jpg -> Annotation:D:/object detecion/TFODCourse/Tensorflow/workspace/images/collectedimages/human\\group-of-business-people-talking-ET2BYX.xml\n",
      "Image:D:\\object detecion\\TFODCourse\\Tensorflow\\workspace\\images\\collectedimages\\human\\group-of-happy-young-people-posing-in-studio-isolated-on-white-background-F9836P.jpg -> Annotation:D:/object detecion/TFODCourse/Tensorflow/workspace/images/collectedimages/human\\group-of-happy-young-people-posing-in-studio-isolated-on-white-background-F9836P.xml\n",
      "Image:D:\\object detecion\\TFODCourse\\Tensorflow\\workspace\\images\\collectedimages\\human\\group-people-260nw-602783837.jpg -> Annotation:D:/object detecion/TFODCourse/Tensorflow/workspace/images/collectedimages/human\\group-people-260nw-602783837.xml\n",
      "Image:D:\\object detecion\\TFODCourse\\Tensorflow\\workspace\\images\\collectedimages\\human\\Holding-a-cell-phone-Business-People-Stock-Photo.jpg -> Annotation:D:/object detecion/TFODCourse/Tensorflow/workspace/images/collectedimages/human\\Holding-a-cell-phone-Business-People-Stock-Photo.xml\n",
      "Image:D:\\object detecion\\TFODCourse\\Tensorflow\\workspace\\images\\collectedimages\\human\\husiastic-hears-something-positive-wears-casual-blue-turtleneck_273609-43443.jpg -> Annotation:D:/object detecion/TFODCourse/Tensorflow/workspace/images/collectedimages/human\\husiastic-hears-something-positive-wears-casual-blue-turtleneck_273609-43443.xml\n",
      "Cancel creation.\n",
      "Image:D:\\object detecion\\TFODCourse\\Tensorflow\\workspace\\images\\collectedimages\\human\\4b83aa28958914ed9c6cbb9b8ca2e7d1.jpg -> Annotation:D:/object detecion/TFODCourse/Tensorflow/workspace/images/collectedimages/human\\4b83aa28958914ed9c6cbb9b8ca2e7d1.xml\n",
      "Image:D:\\object detecion\\TFODCourse\\Tensorflow\\workspace\\images\\collectedimages\\human\\360_F_194855269_kckcUyv0WUeRyoEbVsDByFVVYfVKbT0C.jpg -> Annotation:D:/object detecion/TFODCourse/Tensorflow/workspace/images/collectedimages/human\\360_F_194855269_kckcUyv0WUeRyoEbVsDByFVVYfVKbT0C.xml\n",
      "Image:D:\\object detecion\\TFODCourse\\Tensorflow\\workspace\\images\\collectedimages\\human\\23259345-large-group-of-business-people-over-white-background.jpg -> Annotation:D:/object detecion/TFODCourse/Tensorflow/workspace/images/collectedimages/human\\23259345-large-group-of-business-people-over-white-background.xml\n",
      "Image:D:\\object detecion\\TFODCourse\\Tensorflow\\workspace\\images\\collectedimages\\human\\38738606-group-of-happy-young-people-isolated-on-white-background.jpg -> Annotation:D:/object detecion/TFODCourse/Tensorflow/workspace/images/collectedimages/human\\38738606-group-of-happy-young-people-isolated-on-white-background.xml\n",
      "Cancel creation.\n",
      "Cancel creation.\n",
      "Image:D:\\object detecion\\TFODCourse\\Tensorflow\\workspace\\images\\collectedimages\\human\\coworkers-first-time-meeting.jpg -> Annotation:D:/object detecion/TFODCourse/Tensorflow/workspace/images/collectedimages/human\\coworkers-first-time-meeting.xml\n",
      "Image:D:\\object detecion\\TFODCourse\\Tensorflow\\workspace\\images\\collectedimages\\human\\depositphotos_44069811-stock-photo-diverse-group-of-people-standing.jpg -> Annotation:D:/object detecion/TFODCourse/Tensorflow/workspace/images/collectedimages/human\\depositphotos_44069811-stock-photo-diverse-group-of-people-standing.xml\n",
      "Image:D:\\object detecion\\TFODCourse\\Tensorflow\\workspace\\images\\collectedimages\\human\\group-business-people-white-background-150146125.jpg -> Annotation:D:/object detecion/TFODCourse/Tensorflow/workspace/images/collectedimages/human\\group-business-people-white-background-150146125.xml\n",
      "Image:D:\\object detecion\\TFODCourse\\Tensorflow\\workspace\\images\\collectedimages\\human\\group-happy-people-smiling-isolated-over-white-background-58876164.jpg -> Annotation:D:/object detecion/TFODCourse/Tensorflow/workspace/images/collectedimages/human\\group-happy-people-smiling-isolated-over-white-background-58876164.xml\n",
      "Image:D:\\object detecion\\TFODCourse\\Tensorflow\\workspace\\images\\collectedimages\\human\\group-happy-people-smiling-isolated-over-white-background-58876164.jpg -> Annotation:D:/object detecion/TFODCourse/Tensorflow/workspace/images/collectedimages/human\\group-happy-people-smiling-isolated-over-white-background-58876164.xml\n",
      "Image:D:\\object detecion\\TFODCourse\\Tensorflow\\workspace\\images\\collectedimages\\human\\360_F_261529596_YZWJaMnYFSCM0FSCrxs71o6RrZ9MpP4D.jpg -> Annotation:D:/object detecion/TFODCourse/Tensorflow/workspace/images/collectedimages/human\\360_F_261529596_YZWJaMnYFSCM0FSCrxs71o6RrZ9MpP4D.xml\n"
     ]
    },
    {
     "name": "stderr",
     "output_type": "stream",
     "text": [
      "qt.gui.icc: fromIccProfile: failed minimal tag size sanity\n",
      "qt.gui.icc: fromIccProfile: failed minimal tag size sanity\n",
      "qt.gui.icc: fromIccProfile: failed minimal tag size sanity\n",
      "qt.gui.icc: fromIccProfile: failed minimal tag size sanity\n",
      "qt.gui.icc: fromIccProfile: failed minimal tag size sanity\n",
      "qt.gui.icc: fromIccProfile: failed minimal tag size sanity\n",
      "qt.gui.icc: fromIccProfile: failed minimal tag size sanity\n",
      "qt.gui.icc: fromIccProfile: failed minimal tag size sanity\n",
      "qt.gui.icc: fromIccProfile: failed minimal tag size sanity\n",
      "qt.gui.icc: fromIccProfile: failed minimal tag size sanity\n",
      "qt.gui.icc: fromIccProfile: failed minimal tag size sanity\n"
     ]
    }
   ],
   "source": [
    "!cd {LABELIMG_PATH} && python labelImg.py"
   ]
  },
  {
   "cell_type": "markdown",
   "metadata": {},
   "source": [
    "# 6. Move them into a Training and Testing Partition"
   ]
  },
  {
   "cell_type": "markdown",
   "metadata": {},
   "source": [
    "# OPTIONAL - 7. Compress them for Colab Training"
   ]
  },
  {
   "cell_type": "code",
   "execution_count": 20,
   "metadata": {},
   "outputs": [],
   "source": [
    "TRAIN_PATH = os.path.join('Tensorflow', 'workspace', 'images', 'train')\n",
    "TEST_PATH = os.path.join('Tensorflow', 'workspace', 'images', 'test')\n",
    "ARCHIVE_PATH = os.path.join('Tensorflow', 'workspace', 'images', 'archive.tar.gz')"
   ]
  },
  {
   "cell_type": "code",
   "execution_count": 21,
   "metadata": {},
   "outputs": [],
   "source": [
    "!tar -czf {ARCHIVE_PATH} {TRAIN_PATH} {TEST_PATH}"
   ]
  },
  {
   "cell_type": "code",
   "execution_count": null,
   "metadata": {},
   "outputs": [],
   "source": []
  }
 ],
 "metadata": {
  "kernelspec": {
   "display_name": "tfodj",
   "language": "python",
   "name": "tfodj"
  },
  "language_info": {
   "codemirror_mode": {
    "name": "ipython",
    "version": 3
   },
   "file_extension": ".py",
   "mimetype": "text/x-python",
   "name": "python",
   "nbconvert_exporter": "python",
   "pygments_lexer": "ipython3",
   "version": "3.11.8"
  }
 },
 "nbformat": 4,
 "nbformat_minor": 4
}
